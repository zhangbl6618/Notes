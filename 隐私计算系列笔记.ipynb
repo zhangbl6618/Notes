{
 "cells": [
  {
   "attachments": {},
   "cell_type": "markdown",
   "metadata": {},
   "source": [
    "> 部分图片引用矩阵元微信公众号【隐私计算笔谈】\n",
    "\n",
    "# MPC系列专题\n",
    "\n",
    "\n",
    "## Shamir(t,n)秘密分享\n",
    "\n",
    "### 秘密分配\n",
    "<img src=\"./pic/Shamir_secret_distribution.jpg\" alt=\"Shamir_secret_distribution\" width=\"50%\" />\n",
    "\n",
    "### 秘密恢复\n",
    "$$f\\left ( 0 \\right ) =  {\\textstyle \\sum_{i = 1}^{n}\\lambda_{i} f\\left ( i \\right ) } $$\n",
    "\n",
    "### 加法重构\n",
    "<img src=\"./pic/Shamir_addition_reconsitution.png\" alt=\"Shamir_addition_reconsitution\" width=\"50%\" />\n",
    "\n",
    "### 乘法重构\n",
    "<img src=\"./pic/Shamir_multiplication_reconsitution.png\" alt=\"Shamir_multiplication_reconsitution.png\" width=\"50%\" />\n",
    "\n",
    "## 不经意传输（Oblivious transfer, OT）\n",
    "\n",
    "<img src=\"./pic/OT.png\" alt=\"oblivious_transfer\" width=\"50%\" />\n",
    "\n",
    "## 混淆电路（Garbled Circuit）"
   ]
  },
  {
   "cell_type": "code",
   "execution_count": null,
   "metadata": {},
   "outputs": [],
   "source": []
  }
 ],
 "metadata": {
  "kernelspec": {
   "display_name": "Python 3",
   "language": "python",
   "name": "python3"
  },
  "language_info": {
   "codemirror_mode": {
    "name": "ipython",
    "version": 3
   },
   "file_extension": ".py",
   "mimetype": "text/x-python",
   "name": "python",
   "nbconvert_exporter": "python",
   "pygments_lexer": "ipython3",
   "version": "3.8.3"
  },
  "toc": {
   "base_numbering": 1,
   "nav_menu": {},
   "number_sections": true,
   "sideBar": true,
   "skip_h1_title": false,
   "title_cell": "Table of Contents",
   "title_sidebar": "Contents",
   "toc_cell": false,
   "toc_position": {},
   "toc_section_display": true,
   "toc_window_display": false
  }
 },
 "nbformat": 4,
 "nbformat_minor": 4
}
