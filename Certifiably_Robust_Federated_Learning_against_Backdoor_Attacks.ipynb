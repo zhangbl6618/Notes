{
 "cells": [
  {
   "cell_type": "markdown",
   "metadata": {},
   "source": [
    "#  CRFL: Certifiably Robust Federated Learning against Backdoor Attacks 阅读笔记\n",
    "> ICML 2021\n",
    "\n",
    "## Abstract\n",
    "\n",
    "&emsp;&emsp;**联邦学习**训练过程中，恶意客户端可以执行投毒攻击和模型替换将后门引入训练的全局模型中，虽然已经有大量的研究来设计鲁棒的聚合方法和以经验为依据的鲁棒联邦训练协议来对抗后门攻击，但是现存的方法缺少了鲁棒性证明。本文提供了第一个通用框架，**Certifiably Robust Federated Learning(CRFL)**，来训练可验证鲁棒性的**FL**模型对抗后门攻击。我们的方法利用了模型参数的**clip**和**smooth**来控制全局模型的**smoothness**，从而在有限大小的后门上获得**sample-wise**的鲁棒性证明。\n",
    "\n",
    "## Introduction\n"
   ]
  },
  {
   "cell_type": "code",
   "execution_count": null,
   "metadata": {
    "collapsed": true
   },
   "outputs": [],
   "source": []
  }
 ],
 "metadata": {
  "kernelspec": {
   "display_name": "Python [conda env:jupyter]",
   "language": "python",
   "name": "conda-env-jupyter-py"
  },
  "language_info": {
   "codemirror_mode": {
    "name": "ipython",
    "version": 3
   },
   "file_extension": ".py",
   "mimetype": "text/x-python",
   "name": "python",
   "nbconvert_exporter": "python",
   "pygments_lexer": "ipython3",
   "version": "3.5.4"
  },
  "toc": {
   "base_numbering": 1,
   "nav_menu": {},
   "number_sections": false,
   "sideBar": true,
   "skip_h1_title": false,
   "title_cell": "Table of Contents",
   "title_sidebar": "Contents",
   "toc_cell": false,
   "toc_position": {
    "height": "calc(100% - 180px)",
    "left": "10px",
    "top": "150px",
    "width": "306px"
   },
   "toc_section_display": true,
   "toc_window_display": false
  }
 },
 "nbformat": 4,
 "nbformat_minor": 2
}
