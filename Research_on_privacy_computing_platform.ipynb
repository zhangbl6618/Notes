{
 "cells": [
  {
   "cell_type": "markdown",
   "metadata": {},
   "source": [
    "# CrypTen\n",
    "\n",
    "## Introduction\n",
    "\n",
    "CrypTen 是一个基于 PyTorch 的机器学习框架，使您能够使用安全计算技术轻松研究和开发机器学习模型。CrypTen 确保敏感数据或其他私有数据保持私密，同时仍然允许对可能跨各种组织或用户聚合的加密数据进行模型推理和训练。\n",
    "\n",
    "CrypTen 提供了一个全面的 tensor 计算库，其中所有计算都通过安全 MPC 执行。在这个 tensor 库之上，它提供了自动微分和模块化神经网络包。 CrypTen 的 API 紧跟流行的 PyTorch 机器学习框架的 API.\n",
    "\n",
    "## Threat Model\n",
    "\n",
    "CrypTen使用的是**semi-honest** threat model.\n",
    "* 每一方忠实地遵守协议；\n",
    "* 通讯渠道安全；\n",
    "* 每一方都可以访问私人随机源；\n",
    "* 每一方可以使用他们看到的任何数据并进行任意处理来推断信息；\n",
    "\n",
    "## Design Principles\n",
    "\n",
    "* **Machine-learning first**: CrypTen实现了PyTorch机器学习框架中的 tensor 计算API，实现了自动微分，提供了模块化的神经网络的包等等。\n",
    "* **Eager execution**\n",
    "\n",
    "## Secure Computation\n",
    "\n",
    "* **Private addition**；\n",
    "* **Private multiplication**：使用 **random Beaver triples** 实现；\n",
    "* **Linear functions**：**Private addition** 和 **Private multiplication** 组合实现；\n",
    "* **Non-linear functions**：**指数**使用极限近似，**对数** 使用 Householder 迭代，**倒数** 使用 Newton-Rhapson 迭代，这样就允许CrypTen实现 **sigmoid，softmax，logistic-loss 函数和它们的梯度** 等机器学习模型中用到的函数；\n",
    "* **Comparator**；\n",
    "\n",
    "## CrypTensor\n",
    "\n",
    "CrypTen目前只支持**secure MPC protocols**\n",
    "\n",
    "* **Type**: arithmetic secret-sharing, binary secret-sharing；**（实现原理）**\n",
    "* **Arithmetic secret-sharing**: implement the mathematical operations；(Multiparty computation from somewhat homomorphicencryption)\n",
    "* **Binary secret-sharing**: implement the logical operations；(How to play any mental game or a completeness theorem forprotocols with honest majority)\n",
    "* **Conversion**: CrypTen 提供了允许在两种类型之间进行转换的功能；(ABY – a framework for efficient mixed-protocol securetwo-party computation)\n",
    "\n",
    "\n",
    "## Use Cases\n",
    "\n",
    "* **Feature Aggregation**: ID重叠多，特征重叠少。类似纵向联邦学习；**（如何求交集）\n",
    "* **Data Labeling**: 类似于**Feature Aggregation**，不过这里是一方拥有标签，其他方只拥有特征；\n",
    "* **Dataset Augmentation**: ID重叠少，特征重叠多，类似于横向联邦学习；\n",
    "* **Model Hiding**: 一方持有训练好的模型，一方持有待预测数据；\n",
    "\n",
    "## Examples\n",
    "\n",
    "* **Linear SVM**\n",
    "* **LeNet**\n",
    "* **TFE benchmark**\n",
    "* **bandits**\n",
    "* **imagenet**\n"
   ]
  },
  {
   "cell_type": "code",
   "execution_count": null,
   "metadata": {},
   "outputs": [],
   "source": []
  }
 ],
 "metadata": {
  "kernelspec": {
   "display_name": "Python 3",
   "language": "python",
   "name": "python3"
  },
  "language_info": {
   "codemirror_mode": {
    "name": "ipython",
    "version": 3
   },
   "file_extension": ".py",
   "mimetype": "text/x-python",
   "name": "python",
   "nbconvert_exporter": "python",
   "pygments_lexer": "ipython3",
   "version": "3.8.3"
  },
  "toc": {
   "base_numbering": 1,
   "nav_menu": {},
   "number_sections": true,
   "sideBar": true,
   "skip_h1_title": false,
   "title_cell": "Table of Contents",
   "title_sidebar": "Contents",
   "toc_cell": false,
   "toc_position": {},
   "toc_section_display": true,
   "toc_window_display": false
  }
 },
 "nbformat": 4,
 "nbformat_minor": 4
}
